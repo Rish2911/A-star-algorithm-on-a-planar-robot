{
 "cells": [
  {
   "cell_type": "markdown",
   "metadata": {},
   "source": [
    "Importing libraries"
   ]
  },
  {
   "cell_type": "code",
   "execution_count": 537,
   "metadata": {},
   "outputs": [],
   "source": [
    "import numpy as np\n",
    "import sympy as sp\n",
    "import os\n",
    "from queue import PriorityQueue\n",
    "import matplotlib.pyplot as mp"
   ]
  },
  {
   "cell_type": "markdown",
   "metadata": {},
   "source": [
    "Note: workspace is a rectangle of width b = 400 mm and height h = 250 mm"
   ]
  },
  {
   "cell_type": "markdown",
   "metadata": {},
   "source": [
    "Variables:\n",
    "C2C\n",
    "C2G\n",
    "closed_list\n",
    "open _list\n",
    "initial_node\n",
    "goal_node\n",
    "obstacle_space usign matrix and geometric equations\n",
    "action_set --> N(1),S(1), E(1), W(1), NE(1.5), NW, SE, SW\n",
    "\n"
   ]
  },
  {
   "cell_type": "markdown",
   "metadata": {},
   "source": [
    "Data set for each node (can be changed)"
   ]
  },
  {
   "cell_type": "markdown",
   "metadata": {},
   "source": [
    "Creating the workspace with all default values as once"
   ]
  },
  {
   "cell_type": "code",
   "execution_count": null,
   "metadata": {},
   "outputs": [],
   "source": []
  },
  {
   "cell_type": "code",
   "execution_count": 538,
   "metadata": {},
   "outputs": [],
   "source": [
    "\n",
    "#node size ratio (unit/node)\n",
    "def map():\n",
    "    global x_size, y_size, map_def, Rat,L\n",
    "    Rat = 1 #unit per node\n",
    "    L=1\n",
    "    x_size = int(400/Rat)\n",
    "    y_size = int(250/Rat)\n",
    "    map_def = np.zeros((y_size,x_size,12))\n",
    "    map_def[:,:,:] = -2"
   ]
  },
  {
   "cell_type": "markdown",
   "metadata": {},
   "source": [
    "Defining obstacle space\n",
    "\n",
    "Correct the equations"
   ]
  },
  {
   "cell_type": "markdown",
   "metadata": {},
   "source": [
    "Circle"
   ]
  },
  {
   "cell_type": "code",
   "execution_count": 539,
   "metadata": {},
   "outputs": [],
   "source": [
    "#x is colum and y is row\n",
    "def circle_obs():\n",
    "    global x_c, y_c, x_nc, y_nc, map_obs1, allp_map\n",
    "    x_c = []\n",
    "    y_c = []\n",
    "    x_nc = []\n",
    "    y_nc = []\n",
    "    y_centre = int((249 - 65)/Rat)\n",
    "    x_centre = int((399 - 100)/Rat)\n",
    "    radius_c = int(55/Rat)\n",
    "    radius = int(40/Rat)\n",
    "    map_obs1 = np.copy(map_def)\n",
    "    for x in range(int(200/Rat),int(380/Rat)):\n",
    "        for y in range(int(100/Rat), int(250/Rat)):\n",
    "            if (np.sqrt((x-x_centre)**2 + (y-y_centre)**2)) < radius_c:\n",
    "                map_obs1[y, x,:] = -1\n",
    "                x_c.append(x)\n",
    "                y_c.append(y)\n",
    "                allp_map.append([x,y])\n",
    "            if (np.sqrt((x-x_centre)**2 + (y-y_centre)**2)) < radius:\n",
    "                x_nc.append(x)\n",
    "                y_nc.append(y)\n"
   ]
  },
  {
   "cell_type": "markdown",
   "metadata": {},
   "source": [
    "Triangles"
   ]
  },
  {
   "cell_type": "code",
   "execution_count": 540,
   "metadata": {},
   "outputs": [],
   "source": [
    "def triang_obs():\n",
    "    global x_t1, y_t1, x_t1_nc, y_t1_nc, map_obs2, x_t2_nc, y_t2_nc, x_t2, y_t2, allp_map\n",
    "    y1 = sp.symbols('y1')\n",
    "    x1 = sp.symbols('x1')\n",
    "    y2 = sp.symbols('y2')\n",
    "    x2 = sp.symbols('x2')\n",
    "    y3 = sp.symbols('y3')\n",
    "    x3 = sp.symbols('x3')\n",
    "    y4 = sp.symbols('y4')\n",
    "    x4 = sp.symbols('x4')\n",
    "    y5 = sp.symbols('y5')\n",
    "    x5 = sp.symbols('x5')\n",
    "\n",
    "    e1 = y1 - (-5/54)*x1 - 187.87\n",
    "    e2 = y2 - (-85/69)*x2 - (15681/69) +18 #222.7\n",
    "    e2_nc = y2 - (-85/69)*x2 - 15681/69 #15681/69\n",
    "    e3 = y3 - (-16/5)*x3 - (2169/5) -25 #543.25\n",
    "    e3_nc = y3 - (-16/5)*x3 - 2169/5\n",
    "    e4 = y4 - (6/7)*x4 - (779/7) + 15\n",
    "    e4_nc = y4 - (6/7)*x4 - 779/7\n",
    "    e5 = y5 - (25/79)*x5 - (13661/79) -15\n",
    "    e5_nc = y5 - (25/79)*x5 - 13661/79\n",
    "    x_t1 = []\n",
    "    y_t1 = []\n",
    "    x_t2 = []\n",
    "    y_t2 = []\n",
    "    x_t1_nc = []\n",
    "    y_t1_nc = []\n",
    "    x_t2_nc = []\n",
    "    y_t2_nc = []\n",
    "    map_obs2 = np.copy(map_obs1)\n",
    "    for x in range(int(140/Rat)):\n",
    "        for y in range(int(40/Rat),int(220/Rat)):\n",
    "            if e1.subs([(x1,x),(y1,y)])<=0 and e2.subs([(x2,x),(y2,y)])>=0 and e3.subs([(x3,x),(y3,y)])<=0 :\n",
    "                map_obs2[y,x,:] = -1\n",
    "                x_t1.append(x)\n",
    "                y_t1.append(y)\n",
    "                allp_map.append([x,y])\n",
    "            if e1.subs([(x1,x),(y1,y)])<=0 and e2_nc.subs([(x2,x),(y2,y)])>=0 and e3_nc.subs([(x3,x),(y3,y)])<=0 :\n",
    "                x_t1_nc.append(x)\n",
    "                y_t1_nc.append(y)\n",
    "            if e1.subs([(x1,x),(y1,y)])>=0 and e4.subs([(x4,x),(y4,y)])>=0 and e5.subs([(x5,x),(y5,y)])<=0:\n",
    "                map_obs2[y,x,:] = -1\n",
    "                x_t2.append(x)\n",
    "                y_t2.append(y)\n",
    "                allp_map.append([x,y])\n",
    "            if e1.subs([(x1,x),(y1,y)])>=0 and e4_nc.subs([(x4,x),(y4,y)])>=0 and e5_nc.subs([(x5,x),(y5,y)])<=0:\n",
    "                x_t2_nc.append(x)\n",
    "                y_t2_nc.append(y)\n"
   ]
  },
  {
   "cell_type": "markdown",
   "metadata": {},
   "source": [
    "Chekc the clearance again\n",
    "\n",
    "Hexagon"
   ]
  },
  {
   "cell_type": "code",
   "execution_count": 541,
   "metadata": {},
   "outputs": [],
   "source": [
    "def hex_obs():\n",
    "    global map_obs4, x_h, y_h, x_h_nc, y_h_nc, allp_map\n",
    "    y6 = sp.symbols('y6')\n",
    "    x6 = sp.symbols('x6')\n",
    "    y7 = sp.symbols('y7')\n",
    "    x7 = sp.symbols('x7')\n",
    "    y8 = sp.symbols('y8')\n",
    "    x8 = sp.symbols('x8')\n",
    "    y9 = sp.symbols('y9')\n",
    "    x9 = sp.symbols('x9')\n",
    "    x10 = sp.symbols('x10')\n",
    "    x11 = sp.symbols('x11')\n",
    "\n",
    "    e6 = y6 - (5/8)*x6 + 81\n",
    "    e6_nc = y6 - (4/7)*x6 + 380/7\n",
    "    e10 = x10 - 249\n",
    "    e10_nc = x10 - 234\n",
    "    e7 = y7 + (5/8)*x7 - 281\n",
    "    e7_nc = y7 + (4/7)*x7 - 1780/7\n",
    "    e8 = y8 - (5/8)*x8 - 31\n",
    "    e8_nc = y8 - (4/7)*x8 - 180/7\n",
    "    e11 = x11 - 150\n",
    "    e11_nc = x11 - 164\n",
    "    e9 = y9 + (5/8)*x9 - 169\n",
    "    e9_nc = y9 + (4/7)*x9 - 1220/7\n",
    "    x_h = []\n",
    "    y_h = []\n",
    "    x_h_nc = []\n",
    "    y_h_nc = []\n",
    "    map_obs4 = np.copy(map_obs2)\n",
    "    for x in range(int(100/Rat), int(300/Rat)):\n",
    "        for y in range(int(30/Rat),int(255/Rat)):\n",
    "            if e6.subs([(x6,x),(y6,y)])>=0 and e7.subs([(x7,x),(y7,y)])<=0 and e8.subs([(x8,x),(y8,y)])<=0 and e9.subs([(x9,x),(y9,y)])>=0 and e10.subs([(x10,x)])<=0 and e11.subs([(x11,x)])>=0:\n",
    "                map_obs4[y,x,:] = -1\n",
    "                x_h.append(x)\n",
    "                y_h.append(y)\n",
    "                allp_map.append([x,y])\n",
    "            if e6_nc.subs([(x6,x),(y6,y)])>=0 and e7_nc.subs([(x7,x),(y7,y)])<=0 and e8_nc.subs([(x8,x),(y8,y)])<=0 and e9_nc.subs([(x9,x),(y9,y)])>=0 and e10_nc.subs([(x10,x)])<=0 and e11_nc.subs([(x11,x)])>=0:\n",
    "                x_h_nc.append(x)\n",
    "                y_h_nc.append(y)\n"
   ]
  },
  {
   "cell_type": "markdown",
   "metadata": {},
   "source": []
  },
  {
   "cell_type": "markdown",
   "metadata": {},
   "source": [
    "The main algorithm"
   ]
  },
  {
   "cell_type": "markdown",
   "metadata": {},
   "source": [
    "Data structure"
   ]
  },
  {
   "cell_type": "code",
   "execution_count": 542,
   "metadata": {},
   "outputs": [],
   "source": [
    "class Node:\n",
    "    def __init__(self, node_id, node_loc, parent_id, cost, c2c , c2g):\n",
    "        self.parent_id = parent_id #\n",
    "        self.node_id = node_id #unique node id for each node\n",
    "        self.node_loc = node_loc ## [y,x,angle]\n",
    "        self.total_cost = round(cost,2)\n",
    "        self.c2c= round(c2c,2)\n",
    "        self.c2g=round(c2g,2)"
   ]
  },
  {
   "cell_type": "markdown",
   "metadata": {},
   "source": []
  },
  {
   "cell_type": "markdown",
   "metadata": {},
   "source": [
    "Creating required list for storing node information"
   ]
  },
  {
   "cell_type": "markdown",
   "metadata": {},
   "source": [
    "Initialize the goal node"
   ]
  },
  {
   "cell_type": "markdown",
   "metadata": {},
   "source": [
    "Remember x is column and y is rows, a is row and b is column"
   ]
  },
  {
   "cell_type": "markdown",
   "metadata": {},
   "source": [
    "2) Update the value at the matrix space to node id itself when visited"
   ]
  },
  {
   "cell_type": "code",
   "execution_count": 543,
   "metadata": {},
   "outputs": [],
   "source": [
    "def pop(Closed_list, Open_list, All_list):\n",
    "    dat = Open_list.get()\n",
    "    #dat[0] is c2c+c2g, dat[1] is Node_id--> starts from 1, list starts from 0 \n",
    "    Closed_list.append(All_list[dat[1]-1]) #indexing the node from the all_list  \n",
    "    ##check for goal\n",
    "    print('closed list updated')\n",
    "    if All_list[dat[1]-1].node_loc==goal_location:\n",
    "        return \"Goal found\"\n",
    "    return All_list[dat[1]-1]\n",
    "#node = pop(Closed_list, Open_list)"
   ]
  },
  {
   "cell_type": "markdown",
   "metadata": {},
   "source": [
    "Cost Dictionary"
   ]
  },
  {
   "cell_type": "code",
   "execution_count": 544,
   "metadata": {},
   "outputs": [],
   "source": [
    "cost_direction = {'S': 1, 'D': 1}"
   ]
  },
  {
   "cell_type": "markdown",
   "metadata": {},
   "source": [
    "Parameter update"
   ]
  },
  {
   "cell_type": "code",
   "execution_count": 545,
   "metadata": {},
   "outputs": [],
   "source": [
    "def param(All_list, Open_list, map_obs4, cost_dir, n_c, n_d,ang, node):\n",
    "     id = All_list[-1].node_id + 1\n",
    "     map_obs4[n_c,n_d,int(ang/30)] = id  ## id is put in map\n",
    "     c2_g=c2g([n_c,n_d],goal_location[0:2])\n",
    "     c2c=node.c2c+cost_dir\n",
    "     cost = c2c+c2_g  #cost_dir is a dictionary\n",
    "     \n",
    "     parent = node.node_id\n",
    "     loc = [n_c, n_d, int(ang/30)]\n",
    "     # print('node at id', id, 'cost is', cost, 'loc', loc)\n",
    "     All_list.append(Node(id, loc, parent, cost, c2c,c2_g)) ## node is created\n",
    "     tup_new = [cost, id]\n",
    "     Open_list.put(tup_new) ## list of [cost, id] ###gives the [cost,id] in priority queue open list"
   ]
  },
  {
   "cell_type": "markdown",
   "metadata": {},
   "source": [
    "List cost update function"
   ]
  },
  {
   "cell_type": "code",
   "execution_count": 546,
   "metadata": {},
   "outputs": [],
   "source": [
    "def cost_update(nod, n_c ,n_d, ang, All_list,  Closed_list, Open_list, map_obs4, cost_dir):\n",
    "     index = int(map_obs4[n_c, n_d, int(ang/30)])\n",
    "     if round((nod.cost + cost_dir),1)< round(All_list[index-1].cost,1): #since index/node_id is starting from 1\n",
    "            All_list[index-1].cost = round((nod.cost + cost_dir),1)\n",
    "            All_list[index-1].parent_id = nod.node_id\n",
    "            # print('updated cost of node', index, 'is', All_list[index-1].cost)\n",
    "            for i in Closed_list:\n",
    "                if i.node_id ==index:\n",
    "                        i.cost = round((nod.cost + cost_dir),1)\n",
    "                        i.parent_id = nod.node_id\n",
    "            if Open_list.qsize() > 0:\n",
    "                for j in Open_list.queue:\n",
    "                    if j[1] ==index:\n",
    "                            j[0] = round((nod.cost + cost_dir),1)\n",
    "                            # i.parent_id = nod.node_id  "
   ]
  },
  {
   "cell_type": "markdown",
   "metadata": {},
   "source": [
    "Check if goal function"
   ]
  },
  {
   "cell_type": "code",
   "execution_count": 547,
   "metadata": {},
   "outputs": [],
   "source": [
    "\n",
    "def check_if_goal(goal_loc, A_list, go_cost):\n",
    "    # print('checking goal')\n",
    "    if goal_loc==A_list[-1].node_loc:\n",
    "        go_cost = A_list[-1].cost #updates the goal cost\n",
    "        print('goal cost is', go_cost)\n",
    "        return go_cost\n",
    "    else:\n",
    "        return None\n"
   ]
  },
  {
   "cell_type": "code",
   "execution_count": 561,
   "metadata": {},
   "outputs": [
    {
     "data": {
      "text/plain": [
       "array([-2.,  2., -2., -2., -2., -2., -2., -2., -2., -2., -2., -2.])"
      ]
     },
     "execution_count": 561,
     "metadata": {},
     "output_type": "execute_result"
    }
   ],
   "source": []
  },
  {
   "cell_type": "code",
   "execution_count": 549,
   "metadata": {},
   "outputs": [],
   "source": [
    "def move_zero(node, All_list, Open_list, k):\n",
    "    a,b, node_k =node.node_loc\n",
    "    angle=node_k*30\n",
    "    ang=(angle+k*30)%360\n",
    "    c= a + L*np.cos(ang)\n",
    "    d= b + L*np.sin(ang)\n",
    "    n_c, n_d=thres_round(c,d,Rat)\n",
    "    print(n_c, n_d)\n",
    "    if 7<=n_c<=239 and 7<=n_d<=389: \n",
    "        if map_obs4[n_c,n_d,int(ang/30)]==-2:\n",
    "            param(All_list, Open_list, map_obs4, cost_direction['S'], n_c, n_d, ang, node) \n",
    "            \n",
    "            return print('node created')\n",
    "            \n",
    "        elif map_obs4[n_c,n_d, int(ang/30)]==-1:\n",
    "            # print('Obstacle space')\n",
    "            return None\n",
    "        \n",
    "        else:\n",
    "            cost_update(node, n_c ,n_d,ang, All_list,  Closed_list, Open_list, map_obs4, cost_direction['S'])  \n",
    "            return None\n",
    "    else:\n",
    "        return None\n",
    "     "
   ]
  },
  {
   "cell_type": "code",
   "execution_count": 550,
   "metadata": {},
   "outputs": [
    {
     "data": {
      "text/plain": [
       "array([-2.,  1., -2., -2., -2., -2., -2., -2., -2., -2., -2., -2.])"
      ]
     },
     "execution_count": 550,
     "metadata": {},
     "output_type": "execute_result"
    }
   ],
   "source": [
    "map_obs4[9,9,:]"
   ]
  },
  {
   "cell_type": "code",
   "execution_count": 551,
   "metadata": {},
   "outputs": [],
   "source": [
    "def thres_round(c,d, Rat):\n",
    "    # Rat=0.5\n",
    "    n_c=np.round(c/Rat,0)\n",
    "    n_d=np.round(d/Rat,0)\n",
    "\n",
    "    return int(n_c),int(n_d)"
   ]
  },
  {
   "cell_type": "code",
   "execution_count": 552,
   "metadata": {},
   "outputs": [
    {
     "data": {
      "text/plain": [
       "(5, 7)"
      ]
     },
     "execution_count": 552,
     "metadata": {},
     "output_type": "execute_result"
    }
   ],
   "source": [
    "thres_round(2.3,3.3,0.5)"
   ]
  },
  {
   "cell_type": "code",
   "execution_count": 553,
   "metadata": {},
   "outputs": [],
   "source": [
    "def movement(node, All_list, Open_list):\n",
    "    move_zero(node, All_list, Open_list,0)\n",
    "    print('move 0')\n",
    "    move_zero(node, All_list, Open_list,1)\n",
    "    print('move 1')\n",
    "    move_zero(node, All_list, Open_list,2)\n",
    "    print('move 2')\n",
    "    move_zero(node, All_list, Open_list,3)\n",
    "    print('move 3')\n",
    "    move_zero(node, All_list, Open_list,4)\n",
    "    print('move 4')\n",
    "    "
   ]
  },
  {
   "cell_type": "code",
   "execution_count": 554,
   "metadata": {},
   "outputs": [],
   "source": [
    "def backtrack(A_list, x, y):\n",
    "    ind = int(map_obs4[goal_location[0], goal_location[1]])\n",
    "    x.append(A_list[ind-1].node_loc[0])\n",
    "    y.append(A_list[ind-1].node_loc[1])\n",
    "    id = A_list[ind-1].parent_id\n",
    "    while(id>0):\n",
    "        x.append(A_list[id-1].node_loc[0])\n",
    "        y.append(A_list[id-1].node_loc[1])\n",
    "        id = A_list[id - 1].parent_id\n"
   ]
  },
  {
   "cell_type": "markdown",
   "metadata": {},
   "source": [
    "x,y-world coordinate\n",
    "x,y,k--- angle in terms of degrees\n",
    "k --- 0,11 \n",
    "angle =k*30"
   ]
  },
  {
   "cell_type": "code",
   "execution_count": 555,
   "metadata": {},
   "outputs": [],
   "source": [
    "def initial():\n",
    "    global All_list, Closed_list, goal_location, Open_list, allp_map\n",
    "    allp_map = []\n",
    "    All_list = []\n",
    "    Closed_list = []\n",
    "    first_node_id = 1\n",
    "    start_cords_x = 10##int(input(\"please enter the starting x coordinate: \"))\n",
    "    start_cords_y = 10##int(input(\"please enter the starting y coordinate: \"))\n",
    "    start_angle=30 ##int(input(\"please enter the starting angle\"))\n",
    "    start_k=int(start_angle/30)\n",
    "    # if start_cords_x<1 or start_cords_x>400 or start_cords_y<1 or start_cords_y>400:\n",
    "    #     print(\"Either wrong input or the start node is in obstacle space\")\n",
    "    #     exit(0)\n",
    "    # else:\n",
    "    #     node_loc = [start_cords_y-1, start_cords_x-1]\n",
    "    start_location = [start_cords_y-1, start_cords_x-1, start_k]\n",
    "    goal_cords_x = 10##int(input(\"please enter the goal x coordinate: \"))\n",
    "    goal_cords_y = 20 ##int(input(\"please enter the goal y coordinate: \"))\n",
    "    goal_angle=30 ##int(input(\"please enter the goal angle\"))\n",
    "    goal_k=int(goal_angle/30)\n",
    "\n",
    "    # if goal_cords_x<1 or goal_cords_x>400 or goal_cords_y<1 or goal_cords_y>400:\n",
    "    #     print(\"Either wrong input or the goal node is in obstacle space\")\n",
    "    #     exit(0)\n",
    "    # else:\n",
    "    #     goal_location = [goal_cords_y-1, goal_cords_x-1] ### change\n",
    "    goal_location = [goal_cords_y-1, goal_cords_x-1,goal_k]\n",
    "    map()\n",
    "    circle_obs()\n",
    "    # triang_obs()\n",
    "    # hex_obs()\n",
    "    # if map_obs4[start_cords_y-1, start_cords_x-1]==-1 or map_obs4[goal_cords_y-1, goal_cords_x-1]==-1:\n",
    "    #     print(\"start or goal node in obstacle space\")\n",
    "    #     exit(0)\n",
    "    # else:\n",
    "    map_obs4[start_cords_y-1, start_cords_x-1, start_k] = first_node_id\n",
    "    first_parent_id = 0\n",
    "    initial_c2g=c2g(start_location[0:2], goal_location[0:2])\n",
    "    first_cost = 0+initial_c2g\n",
    "    \n",
    "    # O_list = []\n",
    "    All_list.append(Node(first_node_id, start_location, first_parent_id, first_cost,0,initial_c2g))\n",
    "    tup = [first_cost, first_node_id] # just the cost and node id, access the node using all visited and node id\n",
    "    Open_list = PriorityQueue()\n",
    "    Open_list.put(tup)\n",
    "    # O_list.append(tup) #list of tuples\n",
    "    # return [Node(node_id, node_loc, parent_id, cost)], tup"
   ]
  },
  {
   "cell_type": "code",
   "execution_count": 556,
   "metadata": {},
   "outputs": [],
   "source": [
    "def c2g(initial, final):\n",
    "    \n",
    "    return np.round(np.linalg.norm(np.array(initial)-np.array(final)),2)\n"
   ]
  },
  {
   "cell_type": "code",
   "execution_count": 557,
   "metadata": {},
   "outputs": [
    {
     "data": {
      "text/plain": [
       "<function matplotlib.pyplot.show(close=None, block=None)>"
      ]
     },
     "execution_count": 557,
     "metadata": {},
     "output_type": "execute_result"
    },
    {
     "data": {
      "image/png": "[encoded data removed]",
      "text/plain": [
       "<Figure size 432x288 with 1 Axes>"
      ]
     },
     "metadata": {
      "needs_background": "light"
     },
     "output_type": "display_data"
    }
   ],
   "source": [
    "import matplotlib.pyplot as plt\n",
    "plt.scatter(x_c, y_c)\n",
    "plt.scatter(x_h, y_h)\n",
    "plt.scatter(x_t1, y_t1)\n",
    "plt.scatter(x_t2, y_t2)\n",
    "plt.axis([0, 400, 0, 250])\n",
    "plt.show\n",
    "\n"
   ]
  },
  {
   "cell_type": "markdown",
   "metadata": {},
   "source": [
    "Take the input from user"
   ]
  },
  {
   "cell_type": "code",
   "execution_count": 558,
   "metadata": {},
   "outputs": [
    {
     "name": "stdout",
     "output_type": "stream",
     "text": [
      "inside while\n",
      "closed list updated\n",
      "popped\n",
      "9 8\n"
     ]
    },
    {
     "ename": "AttributeError",
     "evalue": "'Node' object has no attribute 'cost'",
     "output_type": "error",
     "traceback": [
      "\u001b[0;31m---------------------------------------------------------------------------\u001b[0m",
      "\u001b[0;31mAttributeError\u001b[0m                            Traceback (most recent call last)",
      "\u001b[0;32m/tmp/ipykernel_6958/1257210945.py\u001b[0m in \u001b[0;36m<module>\u001b[0;34m\u001b[0m\n\u001b[1;32m     15\u001b[0m         \u001b[0;31m# print('closed list', len(Closed_list))\u001b[0m\u001b[0;34m\u001b[0m\u001b[0;34m\u001b[0m\u001b[0;34m\u001b[0m\u001b[0m\n\u001b[1;32m     16\u001b[0m         \u001b[0;31m# print('openlist', len(Open_list))\u001b[0m\u001b[0;34m\u001b[0m\u001b[0;34m\u001b[0m\u001b[0;34m\u001b[0m\u001b[0m\n\u001b[0;32m---> 17\u001b[0;31m             \u001b[0mmovement\u001b[0m\u001b[0;34m(\u001b[0m\u001b[0mnode\u001b[0m\u001b[0;34m,\u001b[0m \u001b[0mAll_list\u001b[0m\u001b[0;34m,\u001b[0m \u001b[0mOpen_list\u001b[0m\u001b[0;34m)\u001b[0m\u001b[0;34m\u001b[0m\u001b[0;34m\u001b[0m\u001b[0m\n\u001b[0m\u001b[1;32m     18\u001b[0m             \u001b[0;31m# print('check is', check)\u001b[0m\u001b[0;34m\u001b[0m\u001b[0;34m\u001b[0m\u001b[0;34m\u001b[0m\u001b[0m\n\u001b[1;32m     19\u001b[0m         \u001b[0;31m#     if(check!=None):\u001b[0m\u001b[0;34m\u001b[0m\u001b[0;34m\u001b[0m\u001b[0;34m\u001b[0m\u001b[0m\n",
      "\u001b[0;32m/tmp/ipykernel_6958/3736767355.py\u001b[0m in \u001b[0;36mmovement\u001b[0;34m(node, All_list, Open_list)\u001b[0m\n\u001b[1;32m      1\u001b[0m \u001b[0;32mdef\u001b[0m \u001b[0mmovement\u001b[0m\u001b[0;34m(\u001b[0m\u001b[0mnode\u001b[0m\u001b[0;34m,\u001b[0m \u001b[0mAll_list\u001b[0m\u001b[0;34m,\u001b[0m \u001b[0mOpen_list\u001b[0m\u001b[0;34m)\u001b[0m\u001b[0;34m:\u001b[0m\u001b[0;34m\u001b[0m\u001b[0;34m\u001b[0m\u001b[0m\n\u001b[0;32m----> 2\u001b[0;31m     \u001b[0mmove_zero\u001b[0m\u001b[0;34m(\u001b[0m\u001b[0mnode\u001b[0m\u001b[0;34m,\u001b[0m \u001b[0mAll_list\u001b[0m\u001b[0;34m,\u001b[0m \u001b[0mOpen_list\u001b[0m\u001b[0;34m,\u001b[0m\u001b[0;36m0\u001b[0m\u001b[0;34m)\u001b[0m\u001b[0;34m\u001b[0m\u001b[0;34m\u001b[0m\u001b[0m\n\u001b[0m\u001b[1;32m      3\u001b[0m     \u001b[0mprint\u001b[0m\u001b[0;34m(\u001b[0m\u001b[0;34m'move 0'\u001b[0m\u001b[0;34m)\u001b[0m\u001b[0;34m\u001b[0m\u001b[0;34m\u001b[0m\u001b[0m\n\u001b[1;32m      4\u001b[0m     \u001b[0mmove_zero\u001b[0m\u001b[0;34m(\u001b[0m\u001b[0mnode\u001b[0m\u001b[0;34m,\u001b[0m \u001b[0mAll_list\u001b[0m\u001b[0;34m,\u001b[0m \u001b[0mOpen_list\u001b[0m\u001b[0;34m,\u001b[0m\u001b[0;36m1\u001b[0m\u001b[0;34m)\u001b[0m\u001b[0;34m\u001b[0m\u001b[0;34m\u001b[0m\u001b[0m\n\u001b[1;32m      5\u001b[0m     \u001b[0mprint\u001b[0m\u001b[0;34m(\u001b[0m\u001b[0;34m'move 1'\u001b[0m\u001b[0;34m)\u001b[0m\u001b[0;34m\u001b[0m\u001b[0;34m\u001b[0m\u001b[0m\n",
      "\u001b[0;32m/tmp/ipykernel_6958/89253628.py\u001b[0m in \u001b[0;36mmove_zero\u001b[0;34m(node, All_list, Open_list, k)\u001b[0m\n\u001b[1;32m     18\u001b[0m \u001b[0;34m\u001b[0m\u001b[0m\n\u001b[1;32m     19\u001b[0m         \u001b[0;32melse\u001b[0m\u001b[0;34m:\u001b[0m\u001b[0;34m\u001b[0m\u001b[0;34m\u001b[0m\u001b[0m\n\u001b[0;32m---> 20\u001b[0;31m             \u001b[0mcost_update\u001b[0m\u001b[0;34m(\u001b[0m\u001b[0mnode\u001b[0m\u001b[0;34m,\u001b[0m \u001b[0mn_c\u001b[0m \u001b[0;34m,\u001b[0m\u001b[0mn_d\u001b[0m\u001b[0;34m,\u001b[0m\u001b[0mang\u001b[0m\u001b[0;34m,\u001b[0m \u001b[0mAll_list\u001b[0m\u001b[0;34m,\u001b[0m  \u001b[0mClosed_list\u001b[0m\u001b[0;34m,\u001b[0m \u001b[0mOpen_list\u001b[0m\u001b[0;34m,\u001b[0m \u001b[0mmap_obs4\u001b[0m\u001b[0;34m,\u001b[0m \u001b[0mcost_direction\u001b[0m\u001b[0;34m[\u001b[0m\u001b[0;34m'S'\u001b[0m\u001b[0;34m]\u001b[0m\u001b[0;34m)\u001b[0m\u001b[0;34m\u001b[0m\u001b[0;34m\u001b[0m\u001b[0m\n\u001b[0m\u001b[1;32m     21\u001b[0m             \u001b[0;32mreturn\u001b[0m \u001b[0;32mNone\u001b[0m\u001b[0;34m\u001b[0m\u001b[0;34m\u001b[0m\u001b[0m\n\u001b[1;32m     22\u001b[0m     \u001b[0;32melse\u001b[0m\u001b[0;34m:\u001b[0m\u001b[0;34m\u001b[0m\u001b[0;34m\u001b[0m\u001b[0m\n",
      "\u001b[0;32m/tmp/ipykernel_6958/3355537991.py\u001b[0m in \u001b[0;36mcost_update\u001b[0;34m(nod, n_c, n_d, ang, All_list, Closed_list, Open_list, map_obs4, cost_dir)\u001b[0m\n\u001b[1;32m      1\u001b[0m \u001b[0;32mdef\u001b[0m \u001b[0mcost_update\u001b[0m\u001b[0;34m(\u001b[0m\u001b[0mnod\u001b[0m\u001b[0;34m,\u001b[0m \u001b[0mn_c\u001b[0m \u001b[0;34m,\u001b[0m\u001b[0mn_d\u001b[0m\u001b[0;34m,\u001b[0m \u001b[0mang\u001b[0m\u001b[0;34m,\u001b[0m \u001b[0mAll_list\u001b[0m\u001b[0;34m,\u001b[0m  \u001b[0mClosed_list\u001b[0m\u001b[0;34m,\u001b[0m \u001b[0mOpen_list\u001b[0m\u001b[0;34m,\u001b[0m \u001b[0mmap_obs4\u001b[0m\u001b[0;34m,\u001b[0m \u001b[0mcost_dir\u001b[0m\u001b[0;34m)\u001b[0m\u001b[0;34m:\u001b[0m\u001b[0;34m\u001b[0m\u001b[0;34m\u001b[0m\u001b[0m\n\u001b[1;32m      2\u001b[0m      \u001b[0mindex\u001b[0m \u001b[0;34m=\u001b[0m \u001b[0mint\u001b[0m\u001b[0;34m(\u001b[0m\u001b[0mmap_obs4\u001b[0m\u001b[0;34m[\u001b[0m\u001b[0mn_c\u001b[0m\u001b[0;34m,\u001b[0m \u001b[0mn_d\u001b[0m\u001b[0;34m,\u001b[0m \u001b[0mint\u001b[0m\u001b[0;34m(\u001b[0m\u001b[0mang\u001b[0m\u001b[0;34m/\u001b[0m\u001b[0;36m30\u001b[0m\u001b[0;34m)\u001b[0m\u001b[0;34m]\u001b[0m\u001b[0;34m)\u001b[0m\u001b[0;34m\u001b[0m\u001b[0;34m\u001b[0m\u001b[0m\n\u001b[0;32m----> 3\u001b[0;31m      \u001b[0;32mif\u001b[0m \u001b[0mround\u001b[0m\u001b[0;34m(\u001b[0m\u001b[0;34m(\u001b[0m\u001b[0mnod\u001b[0m\u001b[0;34m.\u001b[0m\u001b[0mcost\u001b[0m \u001b[0;34m+\u001b[0m \u001b[0mcost_dir\u001b[0m\u001b[0;34m)\u001b[0m\u001b[0;34m,\u001b[0m\u001b[0;36m1\u001b[0m\u001b[0;34m)\u001b[0m\u001b[0;34m<\u001b[0m \u001b[0mround\u001b[0m\u001b[0;34m(\u001b[0m\u001b[0mAll_list\u001b[0m\u001b[0;34m[\u001b[0m\u001b[0mindex\u001b[0m\u001b[0;34m-\u001b[0m\u001b[0;36m1\u001b[0m\u001b[0;34m]\u001b[0m\u001b[0;34m.\u001b[0m\u001b[0mcost\u001b[0m\u001b[0;34m,\u001b[0m\u001b[0;36m1\u001b[0m\u001b[0;34m)\u001b[0m\u001b[0;34m:\u001b[0m \u001b[0;31m#since index/node_id is starting from 1\u001b[0m\u001b[0;34m\u001b[0m\u001b[0;34m\u001b[0m\u001b[0m\n\u001b[0m\u001b[1;32m      4\u001b[0m             \u001b[0mAll_list\u001b[0m\u001b[0;34m[\u001b[0m\u001b[0mindex\u001b[0m\u001b[0;34m-\u001b[0m\u001b[0;36m1\u001b[0m\u001b[0;34m]\u001b[0m\u001b[0;34m.\u001b[0m\u001b[0mcost\u001b[0m \u001b[0;34m=\u001b[0m \u001b[0mround\u001b[0m\u001b[0;34m(\u001b[0m\u001b[0;34m(\u001b[0m\u001b[0mnod\u001b[0m\u001b[0;34m.\u001b[0m\u001b[0mcost\u001b[0m \u001b[0;34m+\u001b[0m \u001b[0mcost_dir\u001b[0m\u001b[0;34m)\u001b[0m\u001b[0;34m,\u001b[0m\u001b[0;36m1\u001b[0m\u001b[0;34m)\u001b[0m\u001b[0;34m\u001b[0m\u001b[0;34m\u001b[0m\u001b[0m\n\u001b[1;32m      5\u001b[0m             \u001b[0mAll_list\u001b[0m\u001b[0;34m[\u001b[0m\u001b[0mindex\u001b[0m\u001b[0;34m-\u001b[0m\u001b[0;36m1\u001b[0m\u001b[0;34m]\u001b[0m\u001b[0;34m.\u001b[0m\u001b[0mparent_id\u001b[0m \u001b[0;34m=\u001b[0m \u001b[0mnod\u001b[0m\u001b[0;34m.\u001b[0m\u001b[0mnode_id\u001b[0m\u001b[0;34m\u001b[0m\u001b[0;34m\u001b[0m\u001b[0m\n",
      "\u001b[0;31mAttributeError\u001b[0m: 'Node' object has no attribute 'cost'"
     ]
    }
   ],
   "source": [
    "\n",
    "initial()\n",
    "##goal_cost = np.inf\n",
    "while(1):\n",
    "    if (Open_list.qsize()>0):\n",
    "        \n",
    "\n",
    "        print('inside while')\n",
    "        node =pop(Closed_list, Open_list, All_list)\n",
    "        if type(node) == str:\n",
    "            print('done')\n",
    "            break\n",
    "        else:\n",
    "            print('popped')\n",
    "\n",
    "        # print('closed list', len(Closed_list))\n",
    "        # print('openlist', len(Open_list))\n",
    "            movement(node, All_list, Open_list)\n",
    "            # print('check is', check)\n",
    "        #     if(check!=None):\n",
    "        #         print('mila na')\n",
    "        #         goal_cost = All_list[int(map_obs4[goal_location[0],goal_location[1]]-1)].cost\n",
    "\n",
    "        #         print('goal cost is', goal_cost)\n",
    "        # else:\n",
    "        #     print('cost exceeded')\n",
    "        #     break\n",
    "    \n",
    "    else:\n",
    "        print('open list empty')\n",
    "        break\n",
    "    \n",
    "       \n"
   ]
  },
  {
   "cell_type": "code",
   "execution_count": null,
   "metadata": {},
   "outputs": [],
   "source": [
    "Open_list.qsize()"
   ]
  },
  {
   "cell_type": "code",
   "execution_count": null,
   "metadata": {},
   "outputs": [],
   "source": [
    "len(All_list)"
   ]
  },
  {
   "cell_type": "code",
   "execution_count": null,
   "metadata": {},
   "outputs": [],
   "source": [
    "len(allp_map)"
   ]
  },
  {
   "cell_type": "markdown",
   "metadata": {},
   "source": [
    "Backtracking"
   ]
  },
  {
   "cell_type": "code",
   "execution_count": null,
   "metadata": {},
   "outputs": [],
   "source": [
    "if (map_obs4[goal_location[0], goal_location[1]]!=-1 and map_obs4[goal_location[0], goal_location[1]]!=-2 ):\n",
    "    x_a = []\n",
    "    y_a = []\n",
    "    backtrack(All_list, x_a, y_a)\n",
    "    mp.show()\n",
    "    mp.axis([0, 400, 0, 250])\n",
    "    mp.plot(y_a,x_a)\n",
    "    mp.plot(x_nc, y_nc)\n",
    "    mp.plot(x_t1_nc,y_t1_nc)\n",
    "    mp.plot(x_t2_nc,y_t2_nc)\n",
    "    mp.plot(x_h_nc,y_h_nc)\n",
    "else:\n",
    "    print('cannot be back tracked')"
   ]
  },
  {
   "cell_type": "markdown",
   "metadata": {},
   "source": [
    "Priority queueu has a problem with objects (try any other method): check once"
   ]
  },
  {
   "cell_type": "markdown",
   "metadata": {},
   "source": [
    "Put animation here"
   ]
  },
  {
   "cell_type": "code",
   "execution_count": null,
   "metadata": {},
   "outputs": [],
   "source": [
    "len(allp_map)"
   ]
  },
  {
   "cell_type": "code",
   "execution_count": null,
   "metadata": {},
   "outputs": [],
   "source": [
    "%matplotlib inline\n",
    "import pygame\n",
    "import cv2\n",
    "import numpy as np\n",
    "#defining a blank canvas\n",
    "new_canvas = np.zeros((250,400,3),np.uint8)\n",
    "# allp_map = [] \n",
    "#for every point that belongs within the obstacle\n",
    "# allp_map.append([y_nc,x_nc])\n",
    "# allp_map.append([y_h_nc, x_h_nc]) \n",
    "# allp_map.append([y_t1_nc, x_t1_nc]) \n",
    "# allp_map.append[y_t2_nc, x_t2_nc]\n",
    "\n",
    "for c in allp_map: #change the name of the variable l\n",
    "    x = c[0]\n",
    "    y = c[1]\n",
    "    new_canvas[(y,x)]=[0,255,255] #assigning a yellow coloured pixel\n",
    "#flipping the image for correct orientation\n",
    "new_canvas = np.flipud(new_canvas)\n",
    "#making a copy for backtracking purpose\n",
    "new_canvas_copy_backtrack = new_canvas.copy()\n",
    "#making a copy for showing the visited nodes on the obstacle space\n",
    "#can be used for the animation\n",
    "new_canvas_copy_visited = new_canvas.copy()\n",
    "new_canvas_copy_visited = cv2.resize(new_canvas_copy_visited,(600,400))\n",
    "#showing the obstacle map\n",
    "mp.imshow('new_canvas',new_canvas)\n",
    "cv2.waitKey(0)\n",
    "cv2.destroyAllWindows()\n"
   ]
  },
  {
   "cell_type": "code",
   "execution_count": null,
   "metadata": {},
   "outputs": [],
   "source": [
    "pygame.init()\n",
    "\n",
    "display_width = 400\n",
    "display_height = 250\n",
    "\n",
    "gameDisplay = pygame.display.set_mode((display_width,display_height),pygame.FULLSCREEN)\n",
    "pygame.display.set_caption('Covered Nodes- Animation')\n",
    "\n",
    "black = (0,0,0)\n",
    "white = (0,255,255)\n",
    "#new = np.array(new_canvas_copy_visited)\n",
    "surf = pygame.surfarray.make_surface(new_canvas_copy_visited)\n",
    "\n",
    "clock = pygame.time.Clock()\n",
    "done = False\n",
    "while not done:\n",
    "    for event in pygame.event.get():   \n",
    "        if event.type == pygame.QUIT:  \n",
    "            done = True   \n",
    " \n",
    "    gameDisplay.fill(black)\n",
    "    for path in visited:\n",
    "        if path not in new_canvas_copy_visited:\n",
    "            #pygame.time.wait(1)\n",
    "            #time.sleep(0.000005)\n",
    "            x = path[0]\n",
    "            y = abs(200-path[1])\n",
    "            #gameDisplay.blit(surf, (x,y))\n",
    "            #gameDisplay.fill(white)\n",
    "            pygame.draw.rect(gameDisplay, white, [x,y,1,1])\n",
    "            #pygame.time.wait(1)\n",
    "            pygame.display.flip()\n",
    "    for path in backtracked_final:\n",
    "        \n",
    "        pygame.time.wait(5)\n",
    "        #time.sleep(0.00005)\n",
    "        x = path[0]\n",
    "        y = abs(200-path[1])\n",
    "        #gameDisplay.blit(surf, (x,y))\n",
    "        #gameDisplay.fill(white)\n",
    "        pygame.draw.rect(gameDisplay, (0,0,255), [x,y,1,1])\n",
    "        #pygame.time.wait(1)\n",
    "        pygame.display.flip()\n",
    "        \n",
    "    #pygame.time.wait(14)\n",
    "    done = True\n",
    "pygame.quit()\n"
   ]
  },
  {
   "cell_type": "code",
   "execution_count": null,
   "metadata": {},
   "outputs": [],
   "source": [
    "\n",
    "\n",
    "# # In[ ]:\n",
    "\n",
    "\n",
    "# #visited path\n",
    "# for path in visited:\n",
    "#     #print(path)\n",
    "#     x = path[0]\n",
    "#     y = path[1]\n",
    "#     new_canvas_copy_backtrack[(200-y,x)]=[255,0,0] #setting every backtracked pixel to white\n",
    "# #showing the final backtracked path\n",
    "# new_backtracked = cv2.resize(new_canvas_copy_backtrack,(600,400))\n",
    "# cv2.imshow('visited',new_backtracked)\n",
    "# cv2.waitKey(0)\n",
    "# cv2.destroyAllWindows()\n",
    "\n",
    "\n",
    "# # In[ ]:\n",
    "\n",
    "\n",
    "# #backtracked path\n",
    "# for path in backtracked_final:\n",
    "#     x = path[0]\n",
    "#     y = path[1]\n",
    "#     new_canvas_copy_backtrack[(200-y,x)]=[0,255,0] #setting every backtracked pixel to green\n",
    "# #showing the final backtracked path\n",
    "# new_backtracked = cv2.resize(new_canvas_copy_backtrack,(600,400))\n",
    "# cv2.imshow('new_backtracked',new_backtracked)\n",
    "# cv2.waitKey(0)\n",
    "# cv2.destroyAllWindows()"
   ]
  }
 ],
 "metadata": {
  "interpreter": {
   "hash": "8b5c35d15b809c09045a1a996ee0b9f033f76ea3bbc361928b80f8c62e83ba50"
  },
  "kernelspec": {
   "display_name": "Python 3.7.11 ('myenv')",
   "language": "python",
   "name": "python3"
  },
  "language_info": {
   "codemirror_mode": {
    "name": "ipython",
    "version": 3
   },
   "file_extension": ".py",
   "mimetype": "text/x-python",
   "name": "python",
   "nbconvert_exporter": "python",
   "pygments_lexer": "ipython3",
   "version": "3.7.11"
  },
  "orig_nbformat": 4
 },
 "nbformat": 4,
 "nbformat_minor": 2
}
